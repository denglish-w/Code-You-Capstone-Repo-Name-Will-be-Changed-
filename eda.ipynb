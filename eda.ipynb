{
 "cells": [
  {
   "cell_type": "code",
   "execution_count": 1,
   "id": "e0204595",
   "metadata": {},
   "outputs": [],
   "source": [
    "import pandas as pd\n",
    "import sqlite3"
   ]
  },
  {
   "cell_type": "code",
   "execution_count": 2,
   "id": "9ad2bab4",
   "metadata": {},
   "outputs": [],
   "source": [
    "# make them data frames\n",
    "\n",
    "unemployment_df = pd.read_csv('data/raw/ssamatab1.csv', skiprows=2)\n",
    "\n",
    "housing_df = pd.read_csv('data/raw/hpi_po_metro.csv')"
   ]
  },
  {
   "cell_type": "code",
   "execution_count": null,
   "id": "38f62ed5",
   "metadata": {},
   "outputs": [],
   "source": [
    "# dropping NA rows in unemployment_df\n",
    "\n",
    "unemployment_df = unemployment_df.dropna(axis=1)"
   ]
  },
  {
   "cell_type": "code",
   "execution_count": null,
   "id": "a09ec80a",
   "metadata": {},
   "outputs": [
    {
     "data": {
      "text/plain": [
       "cbsa          0\n",
       "metro_name    0\n",
       "yr            0\n",
       "qtr           0\n",
       "index_nsa     0\n",
       "index_sa      0\n",
       "dtype: int64"
      ]
     },
     "execution_count": 9,
     "metadata": {},
     "output_type": "execute_result"
    }
   ],
   "source": []
  },
  {
   "cell_type": "code",
   "execution_count": null,
   "id": "2d8d2a6f",
   "metadata": {},
   "outputs": [],
   "source": []
  }
 ],
 "metadata": {
  "kernelspec": {
   "display_name": "venv",
   "language": "python",
   "name": "python3"
  },
  "language_info": {
   "codemirror_mode": {
    "name": "ipython",
    "version": 3
   },
   "file_extension": ".py",
   "mimetype": "text/x-python",
   "name": "python",
   "nbconvert_exporter": "python",
   "pygments_lexer": "ipython3",
   "version": "3.13.7"
  }
 },
 "nbformat": 4,
 "nbformat_minor": 5
}
